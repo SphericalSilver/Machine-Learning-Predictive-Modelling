{
 "cells": [
  {
   "cell_type": "markdown",
   "metadata": {
    "collapsed": true
   },
   "source": [
    "# Classifying Hand-written Numbers\n",
    "\n",
    "For this project, we'll build a neural network for image classification that is able to classify hand-written digits. We will perform this classification using deep, feedforward neural networks.\n",
    "\n",
    "### The difficulties of Image Classification\n",
    "\n",
    "Broadly speaking, image classification, particularly or handwritten text, is a difficult task within the field of machine learning and pattern recognition.\n",
    "\n",
    "This is owed to a multitude of reasons, some of which are the following:\n",
    "\n",
    "1. Each image in a training set is high dimensional, because each pixel in an image is its own featue, and a separate column. For instance, a 144 x 144 image has 20736 features. \n",
    "2. Images are often downsampled to lower resolutions, and transformed to grayscale. For instance, an 8 megapixel photo with 3264 x 2448 pixels (for a total of about 7,990,000 features) is scaled down to between 128 and 512 pixels for faster processing, which results in loss of detail available for training and pattern matching. \n",
    "3. The features inside an image don't have any clear linear or nonlinear relationship that might be learned using a model like linear or logistic regression. In grayscale, each pixel is simply represeted as a brightness value ranging from 0 to 256. \n",
    "\n",
    "### The use of deep learning in image classification\n",
    "\n",
    "Deep learning tends to be effective in image classification because of the fact that its models can learn hierarchical representations.\n",
    "\n",
    "An effective deep learning model learns intermediate representations at each layer in the model, and then uses them in the prediction process. Each successive layer uses weights from previous layers to try and learn more complex representations. \n",
    "\n",
    "### The dataset\n",
    "\n",
    "The scikit-learn library contains several datasets pre-loaded within the library, within the namespace of `sklearn.datasets`.\n",
    "\n",
    "The `load_digits()` function returns a copy of the [hand-written digits](http://archive.ics.uci.edu/ml/datasets/Optical+Recognition+of+Handwritten+Digits) dataset from UCI.\n",
    "\n",
    "Each image is represented as a row of pixel values, since dataframes are a tabular representation of data. \n",
    "\n",
    "Visualizating an image from the dataframe therefore requires that we reshape the image back to irs original 28 x 28 pixel dimensions, and then plot them on a coordinate grid using the `pyplot.imshow()` function. \n",
    "\n",
    "## Introduction\n",
    "\n",
    "We'll start by importing the necessary libraries, and then reshaping and visualizing the dataframe:"
   ]
  },
  {
   "cell_type": "code",
   "execution_count": 1,
   "metadata": {},
   "outputs": [],
   "source": [
    "import numpy as np\n",
    "import pandas as pd\n",
    "from sklearn.datasets import load_digits\n",
    "import matplotlib.pyplot as plt\n",
    "%matplotlib inline\n",
    "\n",
    "digits = load_digits()"
   ]
  },
  {
   "cell_type": "code",
   "execution_count": 2,
   "metadata": {},
   "outputs": [
    {
     "data": {
      "text/plain": [
       "dict_keys(['data', 'target', 'target_names', 'images', 'DESCR'])"
      ]
     },
     "execution_count": 2,
     "metadata": {},
     "output_type": "execute_result"
    }
   ],
   "source": [
    "digits.keys()"
   ]
  },
  {
   "cell_type": "markdown",
   "metadata": {},
   "source": [
    "The labels for what the image actually should be are stored in the `target` key. Those representing the image are stored in the `data` key."
   ]
  },
  {
   "cell_type": "code",
   "execution_count": 3,
   "metadata": {},
   "outputs": [],
   "source": [
    "# Converting target values into series\n",
    "\n",
    "labels = pd.Series(digits['target'])\n",
    "\n",
    "# Converting images to dataframe\n",
    "\n",
    "digits_images = pd.DataFrame(digits['data'])"
   ]
  },
  {
   "cell_type": "code",
   "execution_count": 4,
   "metadata": {},
   "outputs": [
    {
     "data": {
      "text/html": [
       "<div>\n",
       "<style scoped>\n",
       "    .dataframe tbody tr th:only-of-type {\n",
       "        vertical-align: middle;\n",
       "    }\n",
       "\n",
       "    .dataframe tbody tr th {\n",
       "        vertical-align: top;\n",
       "    }\n",
       "\n",
       "    .dataframe thead th {\n",
       "        text-align: right;\n",
       "    }\n",
       "</style>\n",
       "<table border=\"1\" class=\"dataframe\">\n",
       "  <thead>\n",
       "    <tr style=\"text-align: right;\">\n",
       "      <th></th>\n",
       "      <th>0</th>\n",
       "      <th>1</th>\n",
       "      <th>2</th>\n",
       "      <th>3</th>\n",
       "      <th>4</th>\n",
       "      <th>5</th>\n",
       "      <th>6</th>\n",
       "      <th>7</th>\n",
       "      <th>8</th>\n",
       "      <th>9</th>\n",
       "      <th>...</th>\n",
       "      <th>54</th>\n",
       "      <th>55</th>\n",
       "      <th>56</th>\n",
       "      <th>57</th>\n",
       "      <th>58</th>\n",
       "      <th>59</th>\n",
       "      <th>60</th>\n",
       "      <th>61</th>\n",
       "      <th>62</th>\n",
       "      <th>63</th>\n",
       "    </tr>\n",
       "  </thead>\n",
       "  <tbody>\n",
       "    <tr>\n",
       "      <th>0</th>\n",
       "      <td>0.0</td>\n",
       "      <td>0.0</td>\n",
       "      <td>5.0</td>\n",
       "      <td>13.0</td>\n",
       "      <td>9.0</td>\n",
       "      <td>1.0</td>\n",
       "      <td>0.0</td>\n",
       "      <td>0.0</td>\n",
       "      <td>0.0</td>\n",
       "      <td>0.0</td>\n",
       "      <td>...</td>\n",
       "      <td>0.0</td>\n",
       "      <td>0.0</td>\n",
       "      <td>0.0</td>\n",
       "      <td>0.0</td>\n",
       "      <td>6.0</td>\n",
       "      <td>13.0</td>\n",
       "      <td>10.0</td>\n",
       "      <td>0.0</td>\n",
       "      <td>0.0</td>\n",
       "      <td>0.0</td>\n",
       "    </tr>\n",
       "    <tr>\n",
       "      <th>1</th>\n",
       "      <td>0.0</td>\n",
       "      <td>0.0</td>\n",
       "      <td>0.0</td>\n",
       "      <td>12.0</td>\n",
       "      <td>13.0</td>\n",
       "      <td>5.0</td>\n",
       "      <td>0.0</td>\n",
       "      <td>0.0</td>\n",
       "      <td>0.0</td>\n",
       "      <td>0.0</td>\n",
       "      <td>...</td>\n",
       "      <td>0.0</td>\n",
       "      <td>0.0</td>\n",
       "      <td>0.0</td>\n",
       "      <td>0.0</td>\n",
       "      <td>0.0</td>\n",
       "      <td>11.0</td>\n",
       "      <td>16.0</td>\n",
       "      <td>10.0</td>\n",
       "      <td>0.0</td>\n",
       "      <td>0.0</td>\n",
       "    </tr>\n",
       "    <tr>\n",
       "      <th>2</th>\n",
       "      <td>0.0</td>\n",
       "      <td>0.0</td>\n",
       "      <td>0.0</td>\n",
       "      <td>4.0</td>\n",
       "      <td>15.0</td>\n",
       "      <td>12.0</td>\n",
       "      <td>0.0</td>\n",
       "      <td>0.0</td>\n",
       "      <td>0.0</td>\n",
       "      <td>0.0</td>\n",
       "      <td>...</td>\n",
       "      <td>5.0</td>\n",
       "      <td>0.0</td>\n",
       "      <td>0.0</td>\n",
       "      <td>0.0</td>\n",
       "      <td>0.0</td>\n",
       "      <td>3.0</td>\n",
       "      <td>11.0</td>\n",
       "      <td>16.0</td>\n",
       "      <td>9.0</td>\n",
       "      <td>0.0</td>\n",
       "    </tr>\n",
       "  </tbody>\n",
       "</table>\n",
       "<p>3 rows × 64 columns</p>\n",
       "</div>"
      ],
      "text/plain": [
       "    0    1    2     3     4     5    6    7    8    9   ...   54   55   56  \\\n",
       "0  0.0  0.0  5.0  13.0   9.0   1.0  0.0  0.0  0.0  0.0  ...  0.0  0.0  0.0   \n",
       "1  0.0  0.0  0.0  12.0  13.0   5.0  0.0  0.0  0.0  0.0  ...  0.0  0.0  0.0   \n",
       "2  0.0  0.0  0.0   4.0  15.0  12.0  0.0  0.0  0.0  0.0  ...  5.0  0.0  0.0   \n",
       "\n",
       "    57   58    59    60    61   62   63  \n",
       "0  0.0  6.0  13.0  10.0   0.0  0.0  0.0  \n",
       "1  0.0  0.0  11.0  16.0  10.0  0.0  0.0  \n",
       "2  0.0  0.0   3.0  11.0  16.0  9.0  0.0  \n",
       "\n",
       "[3 rows x 64 columns]"
      ]
     },
     "execution_count": 4,
     "metadata": {},
     "output_type": "execute_result"
    }
   ],
   "source": [
    "digits_images.head(3)"
   ]
  },
  {
   "cell_type": "markdown",
   "metadata": {},
   "source": [
    "Each row represents an image. \n",
    "\n",
    "We'll isolate just the first row, and then reshape it to visualize the first image. "
   ]
  },
  {
   "cell_type": "code",
   "execution_count": 5,
   "metadata": {},
   "outputs": [],
   "source": [
    "first_digit = digits_images.iloc[0]\n",
    "np_image = first_digit.values\n",
    "np_image = np_image.reshape(8,8)"
   ]
  },
  {
   "cell_type": "code",
   "execution_count": 6,
   "metadata": {},
   "outputs": [
    {
     "data": {
      "text/plain": [
       "<matplotlib.image.AxesImage at 0x1f931b0ba90>"
      ]
     },
     "execution_count": 6,
     "metadata": {},
     "output_type": "execute_result"
    },
    {
     "data": {
      "image/png": "[encoded data removed]",
      "text/plain": [
       "<Figure size 432x288 with 1 Axes>"
      ]
     },
     "metadata": {
      "needs_background": "light"
     },
     "output_type": "display_data"
    }
   ],
   "source": [
    "# Visualizing the image:\n",
    "\n",
    "plt.imshow(np_image, cmap='gray_r')"
   ]
  },
  {
   "cell_type": "markdown",
   "metadata": {},
   "source": [
    "We'll generate a scatter plot grid with 2 rows and 4 columns to visualize more images.\n",
    "\n",
    "The first row will have images corresponding to rows 0, 100, 200, 300.\n",
    "The second row will have images corresponding to rows 1000,1100, 1200, 1300."
   ]
  },
  {
   "cell_type": "code",
   "execution_count": 7,
   "metadata": {},
   "outputs": [
    {
     "data": {
      "text/plain": [
       "<matplotlib.image.AxesImage at 0x1f931bc9710>"
      ]
     },
     "execution_count": 7,
     "metadata": {},
     "output_type": "execute_result"
    },
    {
     "data": {
      "image/png": "[encoded data removed]",
      "text/plain": [
       "<Figure size 432x288 with 8 Axes>"
      ]
     },
     "metadata": {
      "needs_background": "light"
     },
     "output_type": "display_data"
    }
   ],
   "source": [
    "fig = plt.figure()\n",
    "ax1 = fig.add_subplot(2, 4, 1)\n",
    "ax2 = fig.add_subplot(2, 4, 2)\n",
    "ax3 = fig.add_subplot(2, 4, 3)\n",
    "ax4 = fig.add_subplot(2, 4, 4)\n",
    "ax5 = fig.add_subplot(2, 4, 5)\n",
    "ax6 = fig.add_subplot(2, 4, 6)\n",
    "ax7 = fig.add_subplot(2, 4, 7)\n",
    "ax8 = fig.add_subplot(2, 4, 8)\n",
    "\n",
    "ax1.imshow(np_image, cmap='gray_r')\n",
    "ax2.imshow(digits_images.iloc[100].values.reshape(8,8), cmap='gray_r')\n",
    "ax3.imshow(digits_images.iloc[200].values.reshape(8,8), cmap='gray_r')\n",
    "ax4.imshow(digits_images.iloc[300].values.reshape(8,8), cmap='gray_r')\n",
    "ax5.imshow(digits_images.iloc[1000].values.reshape(8,8), cmap='gray_r')\n",
    "ax6.imshow(digits_images.iloc[1100].values.reshape(8,8), cmap='gray_r')\n",
    "ax7.imshow(digits_images.iloc[1200].values.reshape(8,8), cmap='gray_r')\n",
    "ax8.imshow(digits_images.iloc[1300].values.reshape(8,8), cmap='gray_r')"
   ]
  },
  {
   "cell_type": "markdown",
   "metadata": {},
   "source": [
    "## Using K-Nearest Neighbours algorithm\n",
    "\n",
    "Unlike the linear and logistic regression models, the K-nearest neighbours algorithm makes no assumption about linearity between features and the output labels. This allows it to capture nonlinearity in the data. \n",
    "\n",
    "In fact, it doesn't have a specific model representation (which is why it's referred to as an algorithm, and not a model). \n",
    "\n",
    "The K-nearest neighbour algorithm compares every unseen observation in the test set to all (or most) training observations to look for similar (i.e. nearest) observations, and then it finds the label with the most nearby observations and assigns that as the prediction for the unseen observation. \n",
    "\n",
    "We'll therefore first attempt the digit classification using the k-nearest neighbours algorithm."
   ]
  },
  {
   "cell_type": "code",
   "execution_count": 8,
   "metadata": {},
   "outputs": [],
   "source": [
    "from sklearn.neighbors import KNeighborsClassifier\n",
    "from sklearn.model_selection import KFold"
   ]
  },
  {
   "cell_type": "markdown",
   "metadata": {},
   "source": [
    "A pipeline of functions for testing and training the k-nearest neighbour algorithm will be set-up. We'll make the following functions:\n",
    "\n",
    "- `knn_train()` This function will use the `KNeighborsClassifier` to train our k-nearest neighbours model.\n",
    "- `knn_test()` This function will test the model.\n",
    "- `knn_cross_validate()` This funcion will perform 4-fold cross validation using the above two `train()` and `test()` functions."
   ]
  },
  {
   "cell_type": "code",
   "execution_count": 9,
   "metadata": {},
   "outputs": [],
   "source": [
    "def knn_train(n, train_features, train_labels):\n",
    "    \"\"\"\n",
    "    Trains the model. Receives the train_X, train_y, and no. of nearest neighbors\n",
    "    \"\"\"\n",
    "    knn = KNeighborsClassifier(n_neighbors= n)\n",
    "    knn.fit(train_features, train_labels)\n",
    "    return knn # Returns the model\n",
    "    \n",
    "\n",
    "def knn_test(knn_model, test_features, test_labels):\n",
    "    \"\"\"\n",
    "    Tests the model. Receives the moel returned from the above function, as well as test_X and test_y values.\n",
    "    \"\"\"\n",
    "    predictions = knn_model.predict(test_features)\n",
    "    \n",
    "    # Setting up dataframe to calculate accuracy\n",
    "    train_test_df = pd.DataFrame()\n",
    "    train_test_df['correct_label'] = test_labels\n",
    "    train_test_df['predicted_label'] = predictions\n",
    "    \n",
    "    # accuracy is number of correct predictions over total predictions\n",
    "    accuracy = sum(train_test_df[\"predicted_label\"] == train_test_df[\"correct_label\"])/len(train_test_df)\n",
    "    return accuracy\n",
    "\n",
    "\n",
    "def knn_cross_validate(k):\n",
    "    \"\"\"\n",
    "    Function takes in \"k\", which is used to specify number of nearest neighbors\n",
    "    when the knn_train function is called.\n",
    "    \"\"\"\n",
    "    accuracies = []\n",
    "    kf = KFold(n_splits=4, random_state=2)\n",
    "    for train_index, test_index in kf.split(digits_images):\n",
    "        train_features, test_features = digits_images.loc[train_index], digits_images.loc[test_index]\n",
    "        train_labels, test_labels = labels.loc[train_index], labels.loc[test_index]\n",
    "        \n",
    "        # Call knn_train() function now to train the model\n",
    "        model = knn_train(k, train_features, train_labels)\n",
    "        \n",
    "        # Call knn_test() function to return the accuracy\n",
    "        accuracy_value = knn_test(model, test_features, test_labels)\n",
    "        accuracies.append(accuracy_value)\n",
    "    return accuracies"
   ]
  },
  {
   "cell_type": "markdown",
   "metadata": {},
   "source": [
    "First, we'll test the accuracy for the above model for `n_neighbors` = 1"
   ]
  },
  {
   "cell_type": "code",
   "execution_count": 10,
   "metadata": {},
   "outputs": [
    {
     "name": "stdout",
     "output_type": "stream",
     "text": [
      "[0.9688888888888889, 0.9599109131403119, 0.9799554565701559, 0.9621380846325167]\n"
     ]
    }
   ],
   "source": [
    "one_nearest_neighbor_accuracies = knn_cross_validate(1)\n",
    "\n",
    "print(one_nearest_neighbor_accuracies)"
   ]
  },
  {
   "cell_type": "code",
   "execution_count": 11,
   "metadata": {},
   "outputs": [
    {
     "name": "stdout",
     "output_type": "stream",
     "text": [
      "0.9677233358079684\n"
     ]
    }
   ],
   "source": [
    "# Computing the mean of the above list:\n",
    "print(np.mean(one_nearest_neighbor_accuracies))"
   ]
  },
  {
   "cell_type": "markdown",
   "metadata": {},
   "source": [
    "With k = 1 (i.e. 1-nearest neighbor), the knn model has a 96.8% accuracy. \n",
    "\n",
    "Let's experiment with different values for k, and plot the resulting accuracies. "
   ]
  },
  {
   "cell_type": "code",
   "execution_count": 12,
   "metadata": {},
   "outputs": [
    {
     "data": {
      "image/png": "[encoded data removed]",
      "text/plain": [
       "<Figure size 432x288 with 1 Axes>"
      ]
     },
     "metadata": {
      "needs_background": "light"
     },
     "output_type": "display_data"
    }
   ],
   "source": [
    "# Using List Comprehension to generate x and y axis values\n",
    "\n",
    "k_values = [x for x in range(1,21)]\n",
    "accuracy_values = [np.mean(knn_cross_validate(x)) for x in k_values]\n",
    "\n",
    "plt.plot(k_values, accuracy_values)\n",
    "plt.title(\"No. of Nearest Neighbors vs Accuracy\")\n",
    "plt.show()"
   ]
  },
  {
   "cell_type": "markdown",
   "metadata": {},
   "source": [
    "We note that k values from 1 to 5 maintain simple accuracies above 96%, with the largest accuracy of around 96.8% being observed when k = 1. \n",
    "\n",
    "Past that point, the accuracy seems to decrease, although even at k = 20, the accuracy still seems to be nearly 95%.\n",
    "\n",
    "While the accuracy doesn't seem too bad, we note that there were some downsides to using the k-nearest neighbour algorithm:\n",
    "\n",
    "1. There isn't a model representation we can debug and explore.\n",
    "2. The memory usage is fairly high. For every new unseen observation, several comparisons have to be made to the seen observations.\n",
    "\n",
    "We'll now instead try a neural network, with at first one hidden layer.\n",
    "\n",
    "## Neural Network - 1 Hidden Layer\n",
    "\n",
    "We'll use slightly modified versions of the above 3 functions. "
   ]
  },
  {
   "cell_type": "code",
   "execution_count": 13,
   "metadata": {},
   "outputs": [],
   "source": [
    "from sklearn.neural_network import MLPClassifier\n",
    "\n",
    "def nn_train(neuron_arch, train_features, train_labels):\n",
    "    \"\"\"\n",
    "    Trains the model. Receives the train_X, train_y, and no. of nearest neighbors\n",
    "    \"\"\"\n",
    "    mlp = MLPClassifier(hidden_layer_sizes=neuron_arch)\n",
    "    mlp.fit(train_features, train_labels)\n",
    "    return mlp # Returns the model\n",
    "    \n",
    "\n",
    "def nn_test(knn_model, test_features, test_labels):\n",
    "    \"\"\"\n",
    "    Tests the model. Receives the moel returned from the above function, as well as test_X and test_y values.\n",
    "    \"\"\"\n",
    "    predictions = knn_model.predict(test_features)\n",
    "    \n",
    "    # Setting up dataframe to calculate accuracy\n",
    "    train_test_df = pd.DataFrame()\n",
    "    train_test_df['correct_label'] = test_labels\n",
    "    train_test_df['predicted_label'] = predictions\n",
    "    \n",
    "    # accuracy is number of correct predictions over total predictions\n",
    "    accuracy = sum(train_test_df[\"predicted_label\"] == train_test_df[\"correct_label\"])/len(train_test_df)\n",
    "    return accuracy\n",
    "\n",
    "\n",
    "def nn_cross_validate(neuron_arch):\n",
    "    \"\"\"\n",
    "    Function takes in \"k\", which is used to specify number of nearest neighbors\n",
    "    when the knn_train function is called.\n",
    "    \"\"\"\n",
    "    accuracies = []\n",
    "    kf = KFold(n_splits=4, random_state=2)\n",
    "    for train_index, test_index in kf.split(digits_images):\n",
    "        train_features, test_features = digits_images.loc[train_index], digits_images.loc[test_index]\n",
    "        train_labels, test_labels = labels.loc[train_index], labels.loc[test_index]\n",
    "        \n",
    "        # Call knn_train() function now to train the model\n",
    "        model = nn_train(neuron_arch, train_features, train_labels)\n",
    "        \n",
    "        # Call knn_test() function to return the accuracy\n",
    "        accuracy_value = nn_test(model, test_features, test_labels)\n",
    "        accuracies.append(accuracy_value)\n",
    "    return accuracies"
   ]
  },
  {
   "cell_type": "markdown",
   "metadata": {},
   "source": [
    "The above `nn_cross_validation` function will be tested using the following neuron_arch tuple values:"
   ]
  },
  {
   "cell_type": "code",
   "execution_count": 15,
   "metadata": {},
   "outputs": [
    {
     "data": {
      "image/png": "[encoded data removed]",
      "text/plain": [
       "<Figure size 432x288 with 1 Axes>"
      ]
     },
     "metadata": {
      "needs_background": "light"
     },
     "output_type": "display_data"
    }
   ],
   "source": [
    "import warnings\n",
    "warnings.filterwarnings(\"ignore\")\n",
    "\n",
    "nn_one_neurons = [\n",
    "    (8,),\n",
    "    (16,),\n",
    "    (32,),\n",
    "    (64,),\n",
    "    (128,),\n",
    "    (256,)\n",
    "]\n",
    "\n",
    "no_of_neurons = [x[0] for x in nn_one_neurons]\n",
    "accuracy_scores = [np.mean(nn_cross_validate(x)) for x in nn_one_neurons]\n",
    "\n",
    "plt.plot(no_of_neurons, accuracy_scores)\n",
    "plt.title(\"No. of Neurons in Single Hidden Layer vs Accuracy\")\n",
    "plt.show()"
   ]
  },
  {
   "cell_type": "markdown",
   "metadata": {
    "collapsed": true
   },
   "source": [
    "Adding more neurons to the single hidden layer model significantly improved the model's accuracy, from about 87% to nearly 95%. One thing to note is that we are simply measuring the accuracy, and so the results above don't tell us anything about the false/true positive prediction rate, and false/true negative prediction rate. \n",
    "\n",
    "Seeing as the K-Nearest Neighbors Model achieved a 96% accuracy, so far it doesn't look like there are any advantages to using a Neural Network with a single Hidden Layer.\n",
    "\n",
    "In light of that, we'll now try using a Neural Network with 2 hidden layers.\n",
    "\n",
    "## Neural Network - 2 Hidden Layers\n",
    "\n",
    "Using the same functions above, we'll pass in tuples that represent neurons in 2 hidden layers for the `neuron_arch` parameter in the `nn_cross_validate` function."
   ]
  },
  {
   "cell_type": "code",
   "execution_count": 16,
   "metadata": {},
   "outputs": [
    {
     "data": {
      "image/png": "[encoded data removed]",
      "text/plain": [
       "<Figure size 432x288 with 1 Axes>"
      ]
     },
     "metadata": {
      "needs_background": "light"
     },
     "output_type": "display_data"
    }
   ],
   "source": [
    "nn_two_layers = [\n",
    "    (64,64),\n",
    "    (128,128),\n",
    "    (192,192),\n",
    "    (256,256)\n",
    "]\n",
    "\n",
    "no_of_neurons = [x[0] for x in nn_two_layers]\n",
    "accuracy_scores = [np.mean(nn_cross_validate(x)) for x in nn_two_layers]\n",
    "\n",
    "plt.plot(no_of_neurons, accuracy_scores)\n",
    "plt.title(\"No. of Neurons in Two Hidden Layers vs Accuracy\")\n",
    "plt.show()"
   ]
  },
  {
   "cell_type": "code",
   "execution_count": 17,
   "metadata": {},
   "outputs": [
    {
     "name": "stdout",
     "output_type": "stream",
     "text": [
      "[0.9465751051719873, 0.952698589458055, 0.956033160108884, 0.9577072506805246]\n"
     ]
    }
   ],
   "source": [
    "print(accuracy_scores)"
   ]
  },
  {
   "cell_type": "markdown",
   "metadata": {},
   "source": [
    "We see that there is a slight improvement when using Two Hidden Layers. With 256 neurons, the simple accuracy is around 95.8%. The fact that the 4-fold cross validation method is being used provides more certainty that the model is doing a better job generalizing, and not overfitting.\n",
    "\n",
    "Next, we'll try a Neural Network with 3 hidden layers. \n",
    "\n",
    "## Neural Network - 3 Hidden Layers\n",
    "\n",
    "One caveat we should keep in mind here is that using more hidden layers tends to increase the amount of over-fitting that happens. As a way around this, we'll also increase the number of folds we use in k-fold cross validation to 6.\n",
    "\n",
    "For visibility, we'll write below the functions used earlier. Only the `nn_cross_validate` function needs to be modified."
   ]
  },
  {
   "cell_type": "code",
   "execution_count": 25,
   "metadata": {},
   "outputs": [],
   "source": [
    "def nn_train(neuron_arch, train_features, train_labels):\n",
    "    \"\"\"\n",
    "    Trains the model. Receives the train_X, train_y, and no. of nearest neighbors\n",
    "    \"\"\"\n",
    "    mlp = MLPClassifier(hidden_layer_sizes=neuron_arch)\n",
    "    mlp.fit(train_features, train_labels)\n",
    "    return mlp # Returns the model\n",
    "    \n",
    "\n",
    "def nn_test(knn_model, test_features, test_labels):\n",
    "    \"\"\"\n",
    "    Tests the model. Receives the moel returned from the above function, as well as test_X and test_y values.\n",
    "    \"\"\"\n",
    "    predictions = knn_model.predict(test_features)\n",
    "    \n",
    "    # Setting up dataframe to calculate accuracy\n",
    "    train_test_df = pd.DataFrame()\n",
    "    train_test_df['correct_label'] = test_labels\n",
    "    train_test_df['predicted_label'] = predictions\n",
    "    \n",
    "    # accuracy is number of correct predictions over total predictions\n",
    "    accuracy = sum(train_test_df[\"predicted_label\"] == train_test_df[\"correct_label\"])/len(train_test_df)\n",
    "    return accuracy\n",
    "\n",
    "\n",
    "def nn_cross_validate(neuron_arch):\n",
    "    \"\"\"\n",
    "    Function takes in \"k\", which is used to specify number of nearest neighbors\n",
    "    when the knn_train function is called.\n",
    "    \"\"\"\n",
    "    accuracies = []\n",
    "    kf = KFold(n_splits=6, random_state=2) # Only thing being changed is setting n_splits to 6.\n",
    "    for train_index, test_index in kf.split(digits_images):\n",
    "        train_features, test_features = digits_images.loc[train_index], digits_images.loc[test_index]\n",
    "        train_labels, test_labels = labels.loc[train_index], labels.loc[test_index]\n",
    "        \n",
    "        # Call knn_train() function now to train the model\n",
    "        model = nn_train(neuron_arch, train_features, train_labels)\n",
    "        \n",
    "        # Call knn_test() function to return the accuracy\n",
    "        accuracy_value = nn_test(model, test_features, test_labels)\n",
    "        accuracies.append(accuracy_value)\n",
    "    return accuracies"
   ]
  },
  {
   "cell_type": "markdown",
   "metadata": {},
   "source": [
    "We'll be passing in tuples that represent neurons in 3 hidden layers."
   ]
  },
  {
   "cell_type": "code",
   "execution_count": 26,
   "metadata": {},
   "outputs": [
    {
     "data": {
      "image/png": "[encoded data removed]",
      "text/plain": [
       "<Figure size 432x288 with 1 Axes>"
      ]
     },
     "metadata": {
      "needs_background": "light"
     },
     "output_type": "display_data"
    }
   ],
   "source": [
    "nn_three_layers = [\n",
    "    (10,10,10),\n",
    "    (64,64,64),\n",
    "    (128,128,128),\n",
    "    (256,256,256)\n",
    "]\n",
    "\n",
    "no_of_neurons = [x[0] for x in nn_three_layers]\n",
    "accuracy_scores = [np.mean(nn_cross_validate(x)) for x in nn_three_layers]\n",
    "\n",
    "plt.plot(no_of_neurons, accuracy_scores)\n",
    "plt.title(\"No. of Neurons in Three Hidden Layers vs Accuracy\")\n",
    "plt.show()"
   ]
  },
  {
   "cell_type": "code",
   "execution_count": 27,
   "metadata": {},
   "outputs": [
    {
     "name": "stdout",
     "output_type": "stream",
     "text": [
      "[0.8853734671125975, 0.9493571163136382, 0.950479375696767, 0.9610460795243404]\n"
     ]
    }
   ],
   "source": [
    "print(accuracy_scores)"
   ]
  },
  {
   "cell_type": "markdown",
   "metadata": {},
   "source": [
    "We note that increasing the number of hidden layers further increased the accuracy, this time to just over 96.1%, even though we were using 6-fold cross validation.\n",
    "\n",
    "This observation is very cohesive with research literature about using deep neural networks for computer \"vision\", such as the digits classification we attempted here. Adding more layers and neurons corresponded to an increase in the performance of the deep neural networks in classifying the numbers."
   ]
  }
 ],
 "metadata": {
  "anaconda-cloud": {},
  "kernelspec": {
   "display_name": "Python 3",
   "language": "python",
   "name": "python3"
  },
  "language_info": {
   "codemirror_mode": {
    "name": "ipython",
    "version": 3
   },
   "file_extension": ".py",
   "mimetype": "text/x-python",
   "name": "python",
   "nbconvert_exporter": "python",
   "pygments_lexer": "ipython3",
   "version": "3.7.3"
  }
 },
 "nbformat": 4,
 "nbformat_minor": 2
}
